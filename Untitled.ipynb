{
 "cells": [
  {
   "cell_type": "code",
   "execution_count": null,
   "metadata": {},
   "outputs": [],
   "source": [
    "#Import Libraries\n",
    "import dash\n",
    "import plotly.express as px\n",
    "import pandas as pd\n",
    "import dash_core_components as dcc\n",
    "import dash_html_components as html\n",
    "from dash.dependencies import Output, Input\n",
    "\n",
    "#Load dataset\n",
    "df = pd.read_csv('myntra_products_catalog.csv')\n",
    "\n",
    "#create dash app\n",
    "app = dash.Dash(__name__)\n",
    "\n",
    "\n",
    "#set up layout\n",
    "app.layout=html.Div([\n",
    "    html.H1(\"Myntra Gender Based Product Range\"),\n",
    "    dcc.Dropdown(id='gender-choice',\n",
    "                 options=[{'label':x, 'value':x}\n",
    "                          for x in sorted(df.Gender.unique())],\n",
    "                 value='Men',\n",
    "                 style={'width':'50%'}\n",
    "                 ),\n",
    "\n",
    "    dcc.Graph(id='my-graph',\n",
    "              figure={}),\n",
    "    dcc.Graph(id='my-graph1',\n",
    "              figure={}),\n",
    "\n",
    "])\n",
    "\n",
    "#setup callback functions\n",
    "@app.callback(\n",
    "    Output(component_id='my-graph', component_property='figure'),\n",
    "    Input(component_id='gender-choice', component_property='value'),\n",
    ")\n",
    "def interactive_graphs(value_gender):\n",
    "    dff = df[df.Gender==value_gender]\n",
    "    fig = px.histogram(data_frame=dff, x='ProductBrand', y='NumImages')\n",
    "\n",
    "    return fig\n",
    "\n",
    "\n",
    "\n",
    "#run local server\n",
    "\n",
    "app.run_server()\n"
   ]
  },
  {
   "cell_type": "code",
   "execution_count": null,
   "metadata": {},
   "outputs": [],
   "source": []
  }
 ],
 "metadata": {
  "kernelspec": {
   "display_name": "Python 3",
   "language": "python",
   "name": "python3"
  },
  "language_info": {
   "codemirror_mode": {
    "name": "ipython",
    "version": 3
   },
   "file_extension": ".py",
   "mimetype": "text/x-python",
   "name": "python",
   "nbconvert_exporter": "python",
   "pygments_lexer": "ipython3",
   "version": "3.8.3"
  }
 },
 "nbformat": 4,
 "nbformat_minor": 4
}
